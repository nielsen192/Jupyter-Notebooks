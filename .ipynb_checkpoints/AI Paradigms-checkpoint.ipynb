{
 "cells": [
  {
   "cell_type": "markdown",
   "metadata": {},
   "source": [
    "# AI Paradigms\n",
    "\n",
    "** Major Methodologies: **\n",
    "- Symbolic Functionalism:\n",
    "- Connectionism:\n",
    "- Behaviour-based Approach:\n",
    "\n",
    "## Is Intelligence Necessarily Knowledge-Mediated?\n",
    "Can we assume that intelligent behaviour is caused by knowledge and have used the tools of logic to represent and manipulate that knowledge. Consider the difference between human behaviour and cat behaviour. A cat will spend most of the day sleeping and grooming, but when it is active, it is extremely active and can achieve focus and performance that can astound even humans. On the other hand most human beings spend most time awake and somewhat active, however most are rarely super logical or even really effective in their use of time. Considering this as well as the fact that cats can have seemingly complex social interactions and is not easily persuaded to do something they don't want to do. Isn't that intelligent? We do also distinguish more and more between different types of intelligences in human beings these days. We are no longer focusing entirely on logical reasoning and chess aptitude, so intelligence might not necessarily be logic-based. \n",
    "\n",
    "### Knowledge designed system for intelligent behavior\n",
    "* **Explicit** knowledge\n",
    "* explicits will also have **Implicit** knowledge\n",
    "* implicit knowledge is sometimes used as a term for a third kind of knowledge, **Tacit/Silent, and is used for procedural knowledge**\n",
    "* **Absent** knowledge\n",
    "\n",
    "## Designing an intelligent agent\n",
    "\n",
    "Different approaches and things to consider\n",
    "\n",
    "- Scientific orientation: Understanding the function of some system\n",
    "- Engineering orientation: Because it would be useful to have\n",
    "- The three paradigms\n",
    "- The different kinds of solutions to the problems the agent will face\n",
    "\n",
    "### Design Options\n",
    "In general, there are four distinct kinds of solutions to the problems an agent faces. The trade-offs between solutions of different kinds are often obscure, but it is good practice to consider as many different kinds of solutions as possible.\n",
    "The four distinct kinds of solutions are:\n",
    "* To engineer the environment: On reflection, this option is familiar to all of us. Human beings continually engineer their environment to make life easier for themselves. Our entire social infrastructure is based on an engineered environment, and we have real problems if the environment reminds us that we don't have it entirely under control: consider heavy snow in most British towns, for instance! The same idea can be used for intelligent agents. For example, we routinely restrict the vocabulary and grammar of the  language we use to communicate with our ‘intelligent’ computer programs, and this allows us to simplify their design. Or we could considerably simplify the design of a street cleaning robot system by having it work during the early morning, between 2am and 4am say, when the environment is simplified by the low density of traffic on the roads.\n",
    "* To change the agent’s physical body. Not applicable to software agents, this option is a real one for robotic agents. An appropriate choice of body can simplify the problems the designer faces. For example, a robotic system designed to deliver mail in office buildings may face a problem with stairs. There are two obvious solutions to this problem not often considered: we could make the vehicle so large that it could not fall downstairs because it would not fit; or we could make it so small that falling downstairs would not matter. Either would avoid the need for environmental markings indicating dangerous stairs, or sensor systems and software to enable the agent to recognise and avoid the danger zones.\n",
    "* To change the kinds of actions that agent can perform. Similar to changing the agent’s body, this option concerns the interface between the body and its command system. Consider an ordinary motor car. It is designed to go forwards and backwards, and to steer while moving. However, it cannot change direction while stationary, nor can it move sideways. This complicates parking, unacceptably so for some people. The problem is that the actions the car can perform are restricted: it might be useful to build cars whose steering and drive mechanisms would permit them to move in any direction from a standing start. This example focuses on physical drive mechanisms, but the same is true of software. The design of a program is greatly influenced by its interface to the outside world, by the kinds of actions it can perform and the kinds of inputs it can acquire.\n",
    "* To provide control software to direct the agent’s behaviour. This is the first, and most obvious, solution to a programmer, computer scientist, or many workers in AI. One should solve the problems an agent encounters by providing it with ‘intelligent’ software, they suggest. As the examples above reveal, it is by no means the only option, and not necessarily the best.\n",
    "\n"
   ]
  }
 ],
 "metadata": {
  "anaconda-cloud": {},
  "kernelspec": {
   "display_name": "Python [conda root]",
   "language": "python",
   "name": "conda-root-py"
  },
  "language_info": {
   "codemirror_mode": {
    "name": "ipython",
    "version": 3
   },
   "file_extension": ".py",
   "mimetype": "text/x-python",
   "name": "python",
   "nbconvert_exporter": "python",
   "pygments_lexer": "ipython3",
   "version": "3.5.2"
  }
 },
 "nbformat": 4,
 "nbformat_minor": 1
}
